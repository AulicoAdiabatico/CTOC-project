{
 "cells": [
  {
   "cell_type": "code",
   "execution_count": null,
   "metadata": {},
   "outputs": [],
   "source": [
    "import numpy as np\n",
    "import pandas as pd\n",
    "from pandas import DataFrame as df\n",
    "from sklearn.pipeline import Pipeline\n",
    "from sklearn.preprocessing import LabelEncoder\n",
    "from keras.utils import np_utils\n",
    "import keras.utils\n",
    "from keras.models import Sequential\n",
    "from keras.layers import Dense\n",
    "from keras.layers import Dropout\n",
    "import keras.regularizers as kr\n",
    "from keras.wrappers.scikit_learn import KerasClassifier\n",
    "from sklearn.model_selection import KFold\n",
    "from sklearn.model_selection import cross_val_score\n",
    "import keras.losses as ls\n",
    "import matplotlib.pyplot as plt\n",
    "import matplotlib\n",
    "import sys\n",
    "import math as m\n",
    "np.set_printoptions(threshold=sys.maxsize)\n",
    "%matplotlib qt\n",
    "from matplotlib.patches import Patch\n",
    "from matplotlib.lines import Line2D"
   ]
  },
  {
   "cell_type": "code",
   "execution_count": null,
   "metadata": {},
   "outputs": [],
   "source": [
    "###Vengono caricati i dati dal file, questa volta non viene fatta nessuna selezione a priori\n",
    "###a parte quella per numero di elementi non nulli.\n",
    "\n",
    "data=pd.read_csv('./Settings/Data/Default/DEFGBData.csv')\n",
    "index=np.load('./Settings/valindgb.npy')\n",
    "valin=np.load('./Settings/valingb.npy')\n",
    "valout=np.load('./Settings/valoutgb.npy')\n",
    "index=index.tolist()\n",
    "nancount=[]\n",
    "ind=[]\n",
    "for i in range(0,data.shape[0]):\n",
    "    nancount.append(data.iloc[i,12:].isnull().sum())\n",
    "    if nancount[i]==0:\n",
    "        ind.append(i)\n",
    "    else:\n",
    "        pass\n",
    "data=data.iloc[ind,:]\n",
    "data=data.set_index(['GES_FLD'])\n",
    "\n",
    "data=data.reset_index()   \n",
    "data1=data.values\n",
    "\n",
    "dataset=data.values[:,12:].astype(float)\n",
    "datafei=data.values[:,9].astype(float)\n",
    "dataset=np.nan_to_num(dataset)\n",
    "datafei=np.nan_to_num(datafei)\n",
    "dataset=np.c_[dataset,datafei]\n",
    "\n",
    "asun=[6.24,7.60,6.47,6.34,3.15,3.15,4.95,3.93,5.64,5.64,7.50,7.50,4.99,6.22,2.21]\n",
    "for i in range(0,dataset.shape[0]):\n",
    "    for j in range(0,dataset.shape[1]-1):\n",
    "        if j==10:\n",
    "            pass\n",
    "        else:\n",
    "            dataset[i,j]=(dataset[i,j]-asun[j])-(dataset[i,10]-asun[10])\n",
    "\n",
    "dataset=np.delete(dataset,10,1)\n",
    "invar=dataset"
   ]
  },
  {
   "cell_type": "code",
   "execution_count": null,
   "metadata": {},
   "outputs": [],
   "source": [
    "###Nuova NN. Vengono caricati i files preparati con il training e associati ai rispettivi layers.\n",
    "\n",
    "model=Sequential()\n",
    "w0=np.load(\"./Settings/Weights/gbl0.npy\")\n",
    "b0=np.load(\"./Settings/Weights/gbl0bias.npy\")\n",
    "w1=np.load(\"./Settings/Weights/gbl1.npy\")\n",
    "b1=np.load(\"./Settings/Weights/gbl1bias.npy\")\n",
    "w2=np.load(\"./Settings/Weights/gbl2.npy\")\n",
    "b2=np.load(\"./Settings/Weights/gbl2bias.npy\")\n",
    "w3=np.load(\"./Settings/Weights/gbl3.npy\")\n",
    "b3=np.load(\"./Settings/Weights/gbl3bias.npy\")\n",
    "model.add(Dense(invar.shape[1],input_dim=invar.shape[1],activation='selu',kernel_regularizer=kr.l1(0.01)))\n",
    "model.add(Dense(round(invar.shape[1]*2/5),activation='selu',kernel_regularizer=kr.l1(0.01)))\n",
    "model.add(Dense(3,activation='softsign'))\n",
    "model.compile(loss='categorical_crossentropy', optimizer='adam',metrics=['accuracy'])\n",
    "model.layers[0].set_weights([w0,b0])\n",
    "model.layers[1].set_weights([w1,b1])\n",
    "model.layers[2].set_weights([w2,b2])\n",
    "model._estimator_type='regressor'\n",
    "#model.classes_ = 0,1,2,3,4\n",
    "#model.dummy_='dummy'"
   ]
  },
  {
   "cell_type": "code",
   "execution_count": null,
   "metadata": {},
   "outputs": [],
   "source": [
    "###Viene fatta una run con tutte le stelle, si selezionano quali visualizzare direttamente nei grafici.\n",
    "\n",
    "out=model.predict(dataset)"
   ]
  },
  {
   "cell_type": "code",
   "execution_count": null,
   "metadata": {},
   "outputs": [],
   "source": [
    "dummyout=np_utils.to_categorical(valout)\n",
    "dummyout=dummyout[0]\n",
    "model2=Sequential()\n",
    "model2.add(Dense(invar.shape[1],input_dim=invar.shape[1],activation='selu',kernel_regularizer=kr.l1(0.01)))\n",
    "model2.add(Dense(round(invar.shape[1]*2/5),activation='selu',kernel_regularizer=kr.l1(0.01)))\n",
    "model2.add(Dense(3,activation='softsign'))\n",
    "model2.add(Dense(dummyout.shape[1],activation='softmax'))\n",
    "model2.compile(loss='categorical_crossentropy', optimizer='adam',metrics=['accuracy'])\n",
    "model2._estimator_type='classifier'\n",
    "model2.layers[0].set_weights([w0,b0])\n",
    "model2.layers[1].set_weights([w1,b1])\n",
    "model2.layers[2].set_weights([w2,b2])\n",
    "model2.layers[3].set_weights([w3,b3])\n",
    "model2.classes_ = 0,1,2,3,4\n",
    "model2.dummy_='dummy'\n",
    "\n",
    "out2=model2.predict(valin)\n",
    "from sklearn.metrics import confusion_matrix\n",
    "cm=confusion_matrix(dummyout.argmax(axis=1),out2.argmax(axis=1))\n",
    "\n",
    "acc=(cm[0,0]+cm[1,1]+cm[2,2]+cm[3,3]+cm[4,4])/sum(sum(cm))\n",
    "print ('Accuracy = ',round(acc,3))"
   ]
  },
  {
   "cell_type": "code",
   "execution_count": null,
   "metadata": {},
   "outputs": [],
   "source": [
    "#out3=model2.predict(dataset)"
   ]
  },
  {
   "cell_type": "code",
   "execution_count": null,
   "metadata": {},
   "outputs": [],
   "source": [
    "from sklearn.inspection import plot_partial_dependence\n",
    "elem = ['[Na1/Fe]','[Mg1/Fe]','[Al1/Fe]','[Ca1/Fe]','[Sc1/Fe]','[Sc2/Fe]','[Ti1/Fe]','[Va1/Fe]','[Cr1/Fe]','[Cr2/Fe]','[Fe2/Fe]','[Co1/Fe]','[Ni1/Fe]','[Y1/Fe]','[Fe/H]']\n",
    "target=[0,1,2,3,4]\n",
    "t1=['0','1','2','3','4']"
   ]
  },
  {
   "cell_type": "code",
   "execution_count": null,
   "metadata": {},
   "outputs": [],
   "source": [
    "for i in range(5):\n",
    "    title='5 OCs, output neuron = 0'\n",
    "    title=title.replace('0',t1[i])\n",
    "    fig, ax = plt.subplots(figsize=(17, 12))\n",
    "    ax.set_title(title,fontsize=28)\n",
    "    mlp_disp = plot_partial_dependence(model2,valin,target=target[i],features=[0,1,2,3,4,5],feature_names=elem,kind='individual',ax=ax,percentiles=(0.05,0.95))\n",
    "    folder='./Results/ICEPlots/file'\n",
    "    file='nX_0.png'\n",
    "    file=file.replace('X',t1[i])\n",
    "    folder=folder.replace('file',file)\n",
    "    plt.savefig(folder)"
   ]
  },
  {
   "cell_type": "code",
   "execution_count": null,
   "metadata": {},
   "outputs": [],
   "source": [
    "for i in range(5):\n",
    "    title='5 OCs, output neuron = 0'\n",
    "    title=title.replace('0',t1[i])\n",
    "    fig, ax = plt.subplots(figsize=(17, 12))\n",
    "    ax.set_title(title,fontsize=28)\n",
    "    mlp_disp = plot_partial_dependence(model2,valin,target=target[i],features=[6,7,8,9,10,11],feature_names=elem,kind='individual',ax=ax,percentiles=(0.05,0.95))\n",
    "    folder='./Results/ICEPlots/file'\n",
    "    file='nX_1.png'\n",
    "    file=file.replace('X',t1[i])\n",
    "    folder=folder.replace('file',file)\n",
    "    plt.savefig(folder)"
   ]
  },
  {
   "cell_type": "code",
   "execution_count": null,
   "metadata": {},
   "outputs": [],
   "source": [
    "for i in range(5):\n",
    "    title='5 OCs, output neuron = 0'\n",
    "    title=title.replace('0',t1[i])\n",
    "    fig, ax = plt.subplots(figsize=(17, 8))\n",
    "    ax.set_title(title,fontsize=28)\n",
    "    mlp_disp = plot_partial_dependence(model2,valin,target=target[i],features=[12,13,14],feature_names=elem,kind='individual',ax=ax,percentiles=(0.05,0.95))\n",
    "    folder='./Results/ICEPlots/file'\n",
    "    file='nX_2.png'\n",
    "    file=file.replace('X',t1[i])\n",
    "    folder=folder.replace('file',file)\n",
    "    plt.savefig(folder)"
   ]
  },
  {
   "cell_type": "code",
   "execution_count": null,
   "metadata": {},
   "outputs": [],
   "source": []
  },
  {
   "cell_type": "code",
   "execution_count": null,
   "metadata": {},
   "outputs": [],
   "source": [
    "from sklearn.inspection import plot_partial_dependence\n",
    "elem = ['[Na1/Fe]','[Mg1/Fe]','[Al1/Fe]','[Ca1/Fe]','[Sc1/Fe]','[Sc2/Fe]','[Ti1/Fe]','[Va1/Fe]','[Cr1/Fe]','[Cr2/Fe]','[Fe2/Fe]','[Co1/Fe]','[Ni1/Fe]','[Y1/Fe]','[Fe/H]']\n",
    "target=[0,1,2]\n",
    "t1=['1','2','3']"
   ]
  },
  {
   "cell_type": "code",
   "execution_count": null,
   "metadata": {},
   "outputs": [],
   "source": [
    "for i in range(3):\n",
    "    title='5 OCs, output neuron = 0'\n",
    "    title=title.replace('0',t1[i])\n",
    "    fig, ax = plt.subplots(figsize=(17, 12))\n",
    "    ax.set_title(title,fontsize=28)\n",
    "    mlp_disp = plot_partial_dependence(model,valin,target=target[i],features=[0,1,2,3,4,5],feature_names=elem,kind='individual',ax=ax,percentiles=(0.05,0.95))\n",
    "    folder='./Results/ICEPlots/file'\n",
    "    file='CTnX_0.png'\n",
    "    file=file.replace('X',t1[i])\n",
    "    folder=folder.replace('file',file)\n",
    "    plt.savefig(folder)"
   ]
  },
  {
   "cell_type": "code",
   "execution_count": null,
   "metadata": {},
   "outputs": [],
   "source": [
    "for i in range(3):\n",
    "    title='5 OCs, output neuron = 0'\n",
    "    title=title.replace('0',t1[i])\n",
    "    fig, ax = plt.subplots(figsize=(17, 12))\n",
    "    ax.set_title(title,fontsize=28)\n",
    "    mlp_disp = plot_partial_dependence(model,valin,target=target[i],features=[6,7,8,9,10,11],feature_names=elem,kind='individual',ax=ax,percentiles=(0.05,0.95))\n",
    "    folder='./Results/ICEPlots/file'\n",
    "    file='CTnX_1.png'\n",
    "    file=file.replace('X',t1[i])\n",
    "    folder=folder.replace('file',file)\n",
    "    plt.savefig(folder)"
   ]
  },
  {
   "cell_type": "code",
   "execution_count": null,
   "metadata": {},
   "outputs": [],
   "source": [
    "for i in range(3):\n",
    "    title='5 OCs, output neuron = 0'\n",
    "    title=title.replace('0',t1[i])\n",
    "    fig, ax = plt.subplots(figsize=(17, 12))\n",
    "    ax.set_title(title,fontsize=28)\n",
    "    mlp_disp = plot_partial_dependence(model,valin,target=target[i],features=[12,13,14],feature_names=elem,kind='individual',ax=ax,percentiles=(0.05,0.95))\n",
    "    folder='./Results/ICEPlots/file'\n",
    "    file='CTnX_2.png'\n",
    "    file=file.replace('X',t1[i])\n",
    "    folder=folder.replace('file',file)\n",
    "    plt.savefig(folder)"
   ]
  },
  {
   "cell_type": "code",
   "execution_count": null,
   "metadata": {},
   "outputs": [],
   "source": [
    "plt.rcParams['xtick.labelsize']=15\n",
    "plt.rcParams['ytick.labelsize']=15\n",
    "plt.rcParams['axes.labelsize']=15\n",
    "for i in range(3):\n",
    "    title='Partial Dependency Plots, 5 OCs, output neuron = 0'\n",
    "    title=title.replace('0',t1[i])\n",
    "    fig, ax = plt.subplots(figsize=(20, 14))\n",
    "    fig.suptitle(title,fontsize=30)\n",
    "    #,position=(0.5,0.92)\n",
    "    #ax.set_title(title,fontsize=28,position=(0.5,1.2))\n",
    "    mlp_disp = plot_partial_dependence(model,valin,target=target[i],n_cols=5,features=[0,1,2,3,4,5,6,7,8,9,10,11,12,13,14],feature_names=elem,kind='individual',ax=ax,percentiles=(0.05,0.95))\n",
    "    folder='./Results/ICEPlots/file'\n",
    "    file='CTnX_2.png'\n",
    "    plt.tight_layout()\n",
    "    file=file.replace('X',t1[i])\n",
    "    folder=folder.replace('file',file)\n",
    "    #plt.savefig(folder)"
   ]
  },
  {
   "cell_type": "code",
   "execution_count": null,
   "metadata": {},
   "outputs": [],
   "source": [
    "import time\n",
    "start = time.time()\n",
    "\n",
    "indel=[0,1,2,3,4,5,6]\n",
    "for i in range(len(indel)):\n",
    "    step = time.time()\n",
    "    fig, ax = plt.subplots(figsize=(17, 15))\n",
    "    feat=[]\n",
    "    for j in range(len(indel)):\n",
    "        if j==i:\n",
    "            pass\n",
    "        else:\n",
    "            feat.append((indel[i],indel[j]))\n",
    "    title='5 OCs, element'\n",
    "    #title=title.replace('target',target)\n",
    "    title=title.replace('element',elem[indel[i]])\n",
    "    ax.set_title(title,fontsize=28)\n",
    "    mlp_disp = plot_partial_dependence(model2,valin,features=feat,feature_names=elem,kind='average',ax=ax,percentiles=(0.00,1.00))\n",
    "    print('Step ',i,':',\"--- %s seconds ---\" % (time.time() - step))\n",
    "\n",
    "print(\"--- %s seconds ---\" % (time.time() - start))"
   ]
  }
 ],
 "metadata": {
  "kernelspec": {
   "display_name": "Python 3",
   "language": "python",
   "name": "python3"
  },
  "language_info": {
   "codemirror_mode": {
    "name": "ipython",
    "version": 3
   },
   "file_extension": ".py",
   "mimetype": "text/x-python",
   "name": "python",
   "nbconvert_exporter": "python",
   "pygments_lexer": "ipython3",
   "version": "3.7.9"
  }
 },
 "nbformat": 4,
 "nbformat_minor": 4
}
